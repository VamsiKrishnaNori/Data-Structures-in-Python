{
 "cells": [
  {
   "cell_type": "markdown",
   "metadata": {},
   "source": [
    "## Implementing Stack from Scratch using List"
   ]
  },
  {
   "cell_type": "code",
   "execution_count": 1,
   "metadata": {},
   "outputs": [],
   "source": [
    "class Stack:\n",
    "    \n",
    "    def __init__(self):\n",
    "        \"\"\"\n",
    "        This function initializes the stack\n",
    "        \"\"\"\n",
    "        self.items = []\n",
    "    \n",
    "    def isEmpty(self):\n",
    "        \"\"\"\n",
    "        This function checks if the stack is empty\n",
    "        :return: Boolean\n",
    "        \"\"\"\n",
    "        return self.items == []\n",
    "    \n",
    "    def push(self, item):\n",
    "        \"\"\"\n",
    "        This function pushes an item into the stack\n",
    "        :param item: value\n",
    "        \"\"\"\n",
    "        self.items.append(item)\n",
    "        \n",
    "    def pop(self):\n",
    "        \"\"\"\n",
    "        This function pops the last element out of the stack\n",
    "        \"\"\"\n",
    "        self.items.pop()\n",
    "    \n",
    "    def peek(self):\n",
    "        \"\"\"\n",
    "        This function peeks into the stack and returns the top values\n",
    "        :return: value\n",
    "        \"\"\"\n",
    "        return self.items[len(self.items)-1]\n",
    "    \n",
    "    def size(self):\n",
    "        \"\"\"\n",
    "        This function retruns the size of the stack\n",
    "        :return: value\n",
    "        \"\"\"\n",
    "        return len(self.items)\n",
    "    \n",
    "    def getValueAt(self, index):\n",
    "        \"\"\"\n",
    "        This function gets the value at an index pecified in the stack if exists\n",
    "        :param index: integer\n",
    "        :return: value\n",
    "        \"\"\"\n",
    "        return self.items[index]\n",
    "    \n",
    "    def PrintValues(self):\n",
    "        \"\"\"\n",
    "        This function prints all the elements in the stack\n",
    "        \"\"\"\n",
    "        for i in range(0,len(self.items)):\n",
    "            print(self.items[i])"
   ]
  },
  {
   "cell_type": "code",
   "execution_count": 2,
   "metadata": {},
   "outputs": [],
   "source": [
    "s = Stack()"
   ]
  },
  {
   "cell_type": "code",
   "execution_count": 16,
   "metadata": {},
   "outputs": [],
   "source": [
    "s.push(1)"
   ]
  },
  {
   "cell_type": "code",
   "execution_count": 4,
   "metadata": {},
   "outputs": [
    {
     "data": {
      "text/plain": [
       "1"
      ]
     },
     "execution_count": 4,
     "metadata": {},
     "output_type": "execute_result"
    }
   ],
   "source": [
    "s.peek()"
   ]
  },
  {
   "cell_type": "code",
   "execution_count": 5,
   "metadata": {},
   "outputs": [
    {
     "data": {
      "text/plain": [
       "1"
      ]
     },
     "execution_count": 5,
     "metadata": {},
     "output_type": "execute_result"
    }
   ],
   "source": [
    "s.size()"
   ]
  },
  {
   "cell_type": "code",
   "execution_count": 6,
   "metadata": {},
   "outputs": [],
   "source": [
    "s.push(5)\n",
    "s.push(4)"
   ]
  },
  {
   "cell_type": "code",
   "execution_count": 7,
   "metadata": {},
   "outputs": [
    {
     "data": {
      "text/plain": [
       "4"
      ]
     },
     "execution_count": 7,
     "metadata": {},
     "output_type": "execute_result"
    }
   ],
   "source": [
    "s.peek()"
   ]
  },
  {
   "cell_type": "code",
   "execution_count": 8,
   "metadata": {},
   "outputs": [
    {
     "data": {
      "text/plain": [
       "3"
      ]
     },
     "execution_count": 8,
     "metadata": {},
     "output_type": "execute_result"
    }
   ],
   "source": [
    "s.size()"
   ]
  },
  {
   "cell_type": "code",
   "execution_count": 9,
   "metadata": {},
   "outputs": [
    {
     "name": "stdout",
     "output_type": "stream",
     "text": [
      "1\n",
      "5\n",
      "4\n"
     ]
    }
   ],
   "source": [
    "s.PrintValues()"
   ]
  },
  {
   "cell_type": "code",
   "execution_count": 10,
   "metadata": {},
   "outputs": [
    {
     "data": {
      "text/plain": [
       "4"
      ]
     },
     "execution_count": 10,
     "metadata": {},
     "output_type": "execute_result"
    }
   ],
   "source": [
    "s.getValueAt(2)"
   ]
  },
  {
   "cell_type": "code",
   "execution_count": 11,
   "metadata": {},
   "outputs": [],
   "source": [
    "s.pop()"
   ]
  },
  {
   "cell_type": "code",
   "execution_count": 12,
   "metadata": {},
   "outputs": [
    {
     "data": {
      "text/plain": [
       "2"
      ]
     },
     "execution_count": 12,
     "metadata": {},
     "output_type": "execute_result"
    }
   ],
   "source": [
    "s.size()"
   ]
  },
  {
   "cell_type": "code",
   "execution_count": 13,
   "metadata": {},
   "outputs": [
    {
     "data": {
      "text/plain": [
       "5"
      ]
     },
     "execution_count": 13,
     "metadata": {},
     "output_type": "execute_result"
    }
   ],
   "source": [
    "s.peek()"
   ]
  },
  {
   "cell_type": "code",
   "execution_count": 14,
   "metadata": {},
   "outputs": [
    {
     "data": {
      "text/plain": [
       "False"
      ]
     },
     "execution_count": 14,
     "metadata": {},
     "output_type": "execute_result"
    }
   ],
   "source": [
    "s.isEmpty()"
   ]
  },
  {
   "cell_type": "code",
   "execution_count": null,
   "metadata": {},
   "outputs": [],
   "source": []
  }
 ],
 "metadata": {
  "kernelspec": {
   "display_name": "Python 3",
   "language": "python",
   "name": "python3"
  },
  "language_info": {
   "codemirror_mode": {
    "name": "ipython",
    "version": 3
   },
   "file_extension": ".py",
   "mimetype": "text/x-python",
   "name": "python",
   "nbconvert_exporter": "python",
   "pygments_lexer": "ipython3",
   "version": "3.6.3"
  }
 },
 "nbformat": 4,
 "nbformat_minor": 2
}
